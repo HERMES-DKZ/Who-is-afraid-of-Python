{
 "cells": [
  {
   "cell_type": "markdown",
   "id": "28b8bbde",
   "metadata": {},
   "source": [
    "# 🐢 Turtle Aufgaben mit Lösungen\n",
    "\n",
    "Hier findest du eine Sammlung von Turtle-Projekten für den Workshop."
   ]
  },
  {
   "cell_type": "markdown",
   "id": "cbdbfbb6",
   "metadata": {},
   "source": [
    "## Aufgabe 1: Ein Quadrat zeichnen"
   ]
  },
  {
   "cell_type": "code",
   "execution_count": null,
   "id": "d3b7b5da",
   "metadata": {},
   "outputs": [],
   "source": [
    "import turtle\n",
    "\n",
    "t = turtle.Turtle()\n",
    "\n",
    "for _ in range(4):\n",
    "    t.forward(100)\n",
    "    t.right(90)\n",
    "\n",
    "turtle.done()"
   ]
  },
  {
   "cell_type": "markdown",
   "id": "789ef0ef",
   "metadata": {},
   "source": [
    "## Aufgabe 2: Die deutsche Flagge zeichnen"
   ]
  },
  {
   "cell_type": "code",
   "execution_count": null,
   "id": "dd648a31",
   "metadata": {},
   "outputs": [],
   "source": [
    "import turtle\n",
    "\n",
    "t = turtle.Turtle()\n",
    "t.penup()\n",
    "t.goto(-150, 50)\n",
    "t.pendown()\n",
    "\n",
    "colors = [\"black\", \"red\", \"gold\"]\n",
    "for color in colors:\n",
    "    t.fillcolor(color)\n",
    "    t.begin_fill()\n",
    "    for _ in range(2):\n",
    "        t.forward(300)\n",
    "        t.right(90)\n",
    "        t.forward(50)\n",
    "        t.right(90)\n",
    "    t.end_fill()\n",
    "    t.penup()\n",
    "    t.right(90)\n",
    "    t.forward(50)\n",
    "    t.left(90)\n",
    "    t.pendown()\n",
    "\n",
    "turtle.done()"
   ]
  },
  {
   "cell_type": "markdown",
   "id": "647188eb",
   "metadata": {},
   "source": [
    "## Aufgabe 3: Ein Haus mit Dach und Tür"
   ]
  },
  {
   "cell_type": "code",
   "execution_count": null,
   "id": "c6963633",
   "metadata": {},
   "outputs": [],
   "source": [
    "import turtle\n",
    "\n",
    "t = turtle.Turtle()\n",
    "\n",
    "# Haus\n",
    "t.fillcolor(\"lightblue\")\n",
    "t.begin_fill()\n",
    "for _ in range(2):\n",
    "    t.forward(150)\n",
    "    t.left(90)\n",
    "    t.forward(100)\n",
    "    t.left(90)\n",
    "t.end_fill()\n",
    "\n",
    "# Dach\n",
    "t.fillcolor(\"brown\")\n",
    "t.begin_fill()\n",
    "t.left(45)\n",
    "t.forward(106)\n",
    "t.right(90)\n",
    "t.forward(106)\n",
    "t.end_fill()\n",
    "\n",
    "# Tür\n",
    "t.penup()\n",
    "t.goto(50, -100)\n",
    "t.setheading(90)\n",
    "t.pendown()\n",
    "t.fillcolor(\"darkblue\")\n",
    "t.begin_fill()\n",
    "for _ in range(2):\n",
    "    t.forward(50)\n",
    "    t.right(90)\n",
    "    t.forward(30)\n",
    "    t.right(90)\n",
    "t.end_fill()\n",
    "\n",
    "turtle.done()"
   ]
  },
  {
   "cell_type": "markdown",
   "id": "f1c7d15b",
   "metadata": {},
   "source": [
    "## Aufgabe 4: Kreis-Mandala"
   ]
  },
  {
   "cell_type": "code",
   "execution_count": null,
   "id": "4391d18a",
   "metadata": {},
   "outputs": [],
   "source": [
    "import turtle\n",
    "\n",
    "t = turtle.Turtle()\n",
    "t.speed(0)\n",
    "\n",
    "for i in range(36):\n",
    "    t.circle(100)\n",
    "    t.right(10)\n",
    "\n",
    "turtle.done()"
   ]
  },
  {
   "cell_type": "markdown",
   "id": "f1276a8c",
   "metadata": {},
   "source": [
    "## Aufgabe 5: Stern zeichnen"
   ]
  },
  {
   "cell_type": "code",
   "execution_count": null,
   "id": "d9378ec6",
   "metadata": {},
   "outputs": [],
   "source": [
    "import turtle\n",
    "\n",
    "t = turtle.Turtle()\n",
    "\n",
    "t.fillcolor(\"yellow\")\n",
    "t.begin_fill()\n",
    "for _ in range(5):\n",
    "    t.forward(150)\n",
    "    t.right(144)\n",
    "t.end_fill()\n",
    "\n",
    "turtle.done()"
   ]
  },
  {
   "cell_type": "markdown",
   "id": "c5f3fffb",
   "metadata": {},
   "source": [
    "## Aufgabe 6: Steuerung mit Tastatur"
   ]
  },
  {
   "cell_type": "code",
   "execution_count": null,
   "id": "eb22caa2",
   "metadata": {},
   "outputs": [],
   "source": [
    "import turtle\n",
    "\n",
    "t = turtle.Turtle()\n",
    "screen = turtle.Screen()\n",
    "\n",
    "def move_up():\n",
    "    t.setheading(90)\n",
    "    t.forward(20)\n",
    "\n",
    "def move_down():\n",
    "    t.setheading(270)\n",
    "    t.forward(20)\n",
    "\n",
    "def move_left():\n",
    "    t.setheading(180)\n",
    "    t.forward(20)\n",
    "\n",
    "def move_right():\n",
    "    t.setheading(0)\n",
    "    t.forward(20)\n",
    "\n",
    "screen.listen()\n",
    "screen.onkey(move_up, \"Up\")\n",
    "screen.onkey(move_down, \"Down\")\n",
    "screen.onkey(move_left, \"Left\")\n",
    "screen.onkey(move_right, \"Right\")\n",
    "\n",
    "screen.mainloop()"
   ]
  },
  {
   "cell_type": "markdown",
   "id": "083528d0",
   "metadata": {},
   "source": [
    "## Aufgabe 7: Drehende Animation mit Timer"
   ]
  },
  {
   "cell_type": "code",
   "execution_count": null,
   "id": "bd7a818e",
   "metadata": {},
   "outputs": [],
   "source": [
    "import turtle\n",
    "\n",
    "t = turtle.Turtle()\n",
    "t.speed(0)\n",
    "\n",
    "angle = 0\n",
    "\n",
    "def animate():\n",
    "    global angle\n",
    "    t.clear()\n",
    "    t.setheading(angle)\n",
    "    for _ in range(4):\n",
    "        t.forward(100)\n",
    "        t.right(90)\n",
    "    angle += 5\n",
    "    turtle.ontimer(animate, 50)\n",
    "\n",
    "animate()\n",
    "turtle.mainloop()"
   ]
  },
  {
   "cell_type": "markdown",
   "id": "fca805c0",
   "metadata": {},
   "source": [
    "## Aufgabe 8: Benutzer zeichnet mit Pfeiltasten"
   ]
  },
  {
   "cell_type": "code",
   "execution_count": null,
   "id": "2580b4bd",
   "metadata": {},
   "outputs": [],
   "source": [
    "import turtle\n",
    "\n",
    "t = turtle.Turtle()\n",
    "screen = turtle.Screen()\n",
    "\n",
    "def forward():\n",
    "    t.forward(10)\n",
    "\n",
    "def left():\n",
    "    t.left(15)\n",
    "\n",
    "def right():\n",
    "    t.right(15)\n",
    "\n",
    "def toggle_pen():\n",
    "    if t.isdown():\n",
    "        t.penup()\n",
    "    else:\n",
    "        t.pendown()\n",
    "\n",
    "screen.listen()\n",
    "screen.onkey(forward, \"Up\")\n",
    "screen.onkey(left, \"Left\")\n",
    "screen.onkey(right, \"Right\")\n",
    "screen.onkey(toggle_pen, \"space\")\n",
    "\n",
    "screen.mainloop()"
   ]
  }
 ],
 "metadata": {},
 "nbformat": 4,
 "nbformat_minor": 5
}
